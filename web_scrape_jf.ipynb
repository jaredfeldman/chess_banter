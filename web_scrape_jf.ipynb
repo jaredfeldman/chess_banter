{
 "cells": [
  {
   "cell_type": "code",
   "execution_count": 1,
   "id": "93eef9bc-d4eb-4ca5-a088-ff07ebaeeb89",
   "metadata": {},
   "outputs": [],
   "source": [
    "import requests\n",
    "from bs4 import BeautifulSoup\n",
    "import lichess\n",
    "import berserk"
   ]
  },
  {
   "cell_type": "code",
   "execution_count": 5,
   "id": "c3429d68-0b26-40e3-a792-83fbf5e67ee4",
   "metadata": {},
   "outputs": [
    {
     "data": {
      "text/plain": [
       "'{\"id\":\"tc7a6YrP\",\"rated\":false,\"variant\":\"standard\",\"speed\":\"rapid\",\"perf\":\"rapid\",\"createdAt\":1697997524560,\"lastMoveAt\":1697998133969,\"status\":\"mate\",\"players\":{\"white\":{\"user\":{\"name\":\"maia1\",\"title\":\"BOT\",\"patron\":true,\"id\":\"maia1\"},\"rating\":1485,\"analysis\":{\"inaccuracy\":4,\"mistake\":0,\"blunder\":3,\"acpl\":74,\"accuracy\":77}},\"black\":{\"user\":{\"name\":\"sandman353\",\"id\":\"sandman353\"},\"rating\":1500,\"provisional\":true,\"analysis\":{\"inaccuracy\":4,\"mistake\":4,\"blunder\":1,\"acpl\":46,\"accuracy\":88}}},\"winner\":\"black\",\"moves\":\"d4 d5 Bf4 Nc6 e3 Nf6 c3 e6 Nf3 Bd6 Bg3 O-O Bd3 Bxg3 hxg3 Re8 Nbd2 e5 dxe5 Nxe5 Nxe5 Rxe5 Nf3 Re8 Qc2 g6 O-O-O Bg4 Be2 Ne4 Rdf1 c5 Rh4 Bf5 Bd3 c4 Bxe4 Bxe4 Qd2 Bxf3 gxf3 b5 Rfh1 h5 g4 a5 gxh5 b4 hxg6 fxg6 Rh8+ Kf7 R1h7+ Kf6 Qd4+ Kg5 Qg4+ Kf6 Qf4+ Ke6 Qf7+ Kd6 Qxg6+ Kc5 Rxe8 Qxe8 Qxe8 Rxe8 Rc7+ Kd6 Ra7 bxc3 bxc3 Rf8 f4 Kc5 Rxa5+ Kb6 Rxd5 Kc6 Rd4 Kc5 a4 Ra8 f5 Rxa4 f6 Ra1+ Kb2 Rf1 f7 Rxf2+ Ka3 Rxf7 Ka4 Ra7#\",\"clocks\":[60003,60003,60483,59355,60763,59219,61211,59547,61507,58979,61867,58771,61955,58323,62243,58691,62403,58275,62795,57843,63083,57611,62899,57091,62635,56851,62491,56803,62291,56803,61995,56483,61555,56683,61163,56355,61091,56619,60411,56155,60299,55875,60387,55715,60091,55395,60075,55131,59795,54707,59763,54555,59571,54347,59523,54011,59283,54347,58995,53699,59083,53643,59179,53963,59195,53339,58923,52899,58899,52443,58947,52019,58619,52027,58379,52051,58499,51443,58235,50995,57883,51331,57683,50923,57627,51203,57411,51211,56947,50627,56963,50731,56443,50611,56564,50025],\"clock\":{\"initial\":600,\"increment\":5,\"totalTime\":800}}\\n{\"id\":\"U5NvPOmi\",\"rated\":false,\"variant\":\"standard\",\"speed\":\"rapid\",\"perf\":\"rapid\",\"createdAt\":1697996609366,\"lastMoveAt\":1697996776710,\"status\":\"draw\",\"players\":{\"white\":{\"user\":{\"name\":\"sandman353\",\"id\":\"sandman353\"},\"rating\":1500,\"provisional\":true,\"analysis\":{\"inaccuracy\":2,\"mistake\":0,\"blunder\":4,\"acpl\":107,\"accuracy\":60}},\"black\":{\"user\":{\"name\":\"maia1\",\"title\":\"BOT\",\"patron\":true,\"id\":\"maia1\"},\"rating\":1481,\"analysis\":{\"inaccuracy\":2,\"mistake\":1,\"blunder\":4,\"acpl\":113,\"accuracy\":56}}},\"moves\":\"e4 e5 Nf3 Nc6 Bc4 Nf6 Ng5 d5 exd5 Nxd5 Qf3 Qxg5 Bxd5 Be6 Bxc6+ bxc6 Qxc6+ Bd7 Qxa8+ Ke7 O-O Bh3 g3 Bxf1 Kxf1 g6 Qxa7 Bg7 Qxc7+ Kf6 Qd6+ Kf5 Qd3+ e4 Qd5+ Be5 d3 Qxc1+ Kg2 Qxb2 Qxe4+ Ke6 Qc6+ Bd6 Qe4+ Be5 Qc6+ Bd6 Qe4+ Be5\",\"clocks\":[60003,60003,59475,60499,59659,60995,59939,61491,59611,61987,59387,62475,58867,62947,58955,63443,58739,63931,58523,64419,58915,64915,59099,65403,59083,65899,59363,66387,59051,66883,59235,67371,59115,67867,58899,68347,59187,68843,58643,69323,58227,69811,58315,70307,57779,70787,57139,71267,57027,71759,57026],\"clock\":{\"initial\":600,\"increment\":5,\"totalTime\":800}}\\n{\"id\":\"qIfKU6bF\",\"rated\":false,\"variant\":\"standard\",\"speed\":\"rapid\",\"perf\":\"rapid\",\"createdAt\":1697994527761,\"lastMoveAt\":1697994961528,\"status\":\"mate\",\"players\":{\"white\":{\"user\":{\"name\":\"sandman353\",\"id\":\"sandman353\"},\"rating\":1500,\"provisional\":true,\"analysis\":{\"inaccuracy\":0,\"mistake\":2,\"blunder\":6,\"acpl\":55,\"accuracy\":75}},\"black\":{\"user\":{\"name\":\"maia1\",\"title\":\"BOT\",\"patron\":true,\"id\":\"maia1\"},\"rating\":1460,\"analysis\":{\"inaccuracy\":3,\"mistake\":2,\"blunder\":3,\"acpl\":41,\"accuracy\":78}}},\"winner\":\"black\",\"moves\":\"e4 e5 Nf3 Nc6 Bc4 f6 Nc3 Nge7 d3 d6 O-O Bg4 h3 Bxf3 Qxf3 Nd4 Qh5+ g6 Qd1 Qd7 Be3 O-O-O Bxd4 exd4 Nd5 Nxd5 Bxd5 c6 Bb3 d5 exd5 cxd5 Qf3 f5 Bxd5 Qxd5 Qxd5 Rxd5 Rfe1 Bb4 Re2 Rhd8 a3 Ba5 b4 Bb6 Rae1 a5 Re7 axb4 axb4 Rb5 Rxh7 Rxb4 Ree7 Rb1+ Kh2 Bc7+ g3 Bd6 Reg7 Rb2 Rxg6 Rxc2 Kg2 Rd2 Rf6 Rxd3 Rxf5 Rf8 Rxf8+ Bxf8 Rh8 Kd7 Rxf8 b5 Rf7+ Ke6 Rb7 Rb3 Rb6+ Kd5 h4 d3 h5 d2 h6 d1=Q h7 Qf3+ Kh3 Qh5+ Kg2 Qxh7 Rb8 Qe4+ Kh3 Qh1+ Kg4 Qf3+ Kh3 Qxf2 Rd8+ Kc4 Rc8+ Kb4 Rg8 Qf1+ Kg4 Qc4+ Kh3 Qxg8 Kh4 Qxg3+ Kh5 Rf3 Kh6 Qh3+ Kg5 Qg3+ Kh5 Rf5+ Kh6 Qg5+ Kh7 Rf7+ Kh8 Qg7#\",\"clocks\":[60003,60003,57779,60387,58059,60723,57675,61067,57587,61363,57643,61635,57227,61699,56995,61619,57283,61483,57331,61979,57115,62467,57307,62955,56995,63451,57075,63939,57467,64435,57651,64923,57339,65419,57523,65907,57811,66395,57395,66891,57483,67379,57571,67867,57651,68363,57635,68851,57323,69339,57307,69835,57195,70323,57283,70819,57171,71307,57051,71803,57235,72291,56827,72779,57115,73275,56699,73763,56387,74259,56067,74747,56355,75243,56139,75731,56403,76227,56491,76715,56675,77203,56459,77699,56747,78187,56203,78667,55571,79147,54931,79627,54419,80099,54307,80595,54395,81083,54075,81579,53963,82067,54139,82555,54419,83051,54107,83539,53787,84035,53243,84507,53235,85003,52819,85491,52707,85987,53091,86475,53179,86971,53267,87459,53051,87947,53138,87939],\"clock\":{\"initial\":600,\"increment\":5,\"totalTime\":800}}\\n{\"id\":\"WM0QpOAN\",\"rated\":false,\"variant\":\"standard\",\"speed\":\"rapid\",\"perf\":\"rapid\",\"createdAt\":1697993648871,\"lastMoveAt\":1697993846371,\"status\":\"resign\",\"players\":{\"white\":{\"user\":{\"name\":\"maia1\",\"title\":\"BOT\",\"patron\":true,\"id\":\"maia1\"},\"rating\":1457,\"analysis\":{\"inaccuracy\":0,\"mistake\":1,\"blunder\":0,\"acpl\":73,\"accuracy\":76}},\"black\":{\"user\":{\"name\":\"sandman353\",\"id\":\"sandman353\"},\"rating\":1500,\"provisional\":true,\"analysis\":{\"inaccuracy\":1,\"mistake\":0,\"blunder\":2,\"acpl\":134,\"accuracy\":54}}},\"winner\":\"white\",\"moves\":\"e4 e5 Nc3 Qg5 Nf3 Qd8 Nxe5 f6 Nf3 Ne7 d4 d6 d5\",\"clocks\":[60003,60003,60283,52139,60571,49083,60987,48747,61267,48123,61379,45811,61399,42963],\"clock\":{\"initial\":600,\"increment\":5,\"totalTime\":800}}\\n'"
      ]
     },
     "execution_count": 5,
     "metadata": {},
     "output_type": "execute_result"
    }
   ],
   "source": [
    "# token and username\n",
    "access_token = \"ADD TOKEN HERE\"\n",
    "username = \"sandman353\"\n",
    "\n",
    "# API endpoint\n",
    "api_url = f\"https://lichess.org/api/games/user/{username}\"\n",
    "\n",
    "# Query parameters\n",
    "params = {\n",
    "    \"accuracy\": \"true\",\n",
    "    \"clocks\": \"true\"\n",
    "}\n",
    "\n",
    "# Set the Accept header for ndjson format\n",
    "headers = {\n",
    "    \"Accept\": \"application/x-ndjson\"\n",
    "}\n",
    "\n",
    "# Make the GET request\n",
    "response = requests.get(api_url, params=params, headers=headers)\n",
    "\n",
    "soupy = BeautifulSoup(response.text, 'html.parser')\n",
    "game_with_acc = soupy.prettify()\n",
    "game_with_acc"
   ]
  },
  {
   "cell_type": "code",
   "execution_count": 3,
   "id": "5933f888-3219-4f36-a317-398ea2d8a1fa",
   "metadata": {},
   "outputs": [],
   "source": [
    "with open(\"game_html.txt\", 'w') as file:\n",
    "    # Write the content to the file\n",
    "    file.write(game_with_acc)"
   ]
  }
 ],
 "metadata": {
  "kernelspec": {
   "display_name": "Python 3 (ipykernel)",
   "language": "python",
   "name": "python3"
  },
  "language_info": {
   "codemirror_mode": {
    "name": "ipython",
    "version": 3
   },
   "file_extension": ".py",
   "mimetype": "text/x-python",
   "name": "python",
   "nbconvert_exporter": "python",
   "pygments_lexer": "ipython3",
   "version": "3.9.16"
  }
 },
 "nbformat": 4,
 "nbformat_minor": 5
}
