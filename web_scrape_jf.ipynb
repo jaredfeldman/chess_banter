{
 "cells": [
  {
   "cell_type": "code",
   "execution_count": 1,
   "id": "93eef9bc-d4eb-4ca5-a088-ff07ebaeeb89",
   "metadata": {},
   "outputs": [],
   "source": [
    "import requests\n",
    "from bs4 import BeautifulSoup\n",
    "import lichess\n",
    "import berserk"
   ]
  },
  {
   "cell_type": "code",
   "execution_count": 4,
   "id": "c3429d68-0b26-40e3-a792-83fbf5e67ee4",
   "metadata": {},
   "outputs": [
    {
     "data": {
      "text/plain": [
       "'{\"id\":\"tc7a6YrP\",\"rated\":false,\"variant\":\"standard\",\"speed\":\"rapid\",\"perf\":\"rapid\",\"createdAt\":1697997524560,\"lastMoveAt\":1697998133969,\"status\":\"mate\",\"players\":{\"white\":{\"user\":{\"name\":\"maia1\",\"title\":\"BOT\",\"patron\":true,\"id\":\"maia1\"},\"rating\":1485,\"analysis\":{\"inaccuracy\":4,\"mistake\":0,\"blunder\":3,\"acpl\":74,\"accuracy\":77}},\"black\":{\"user\":{\"name\":\"sandman353\",\"id\":\"sandman353\"},\"rating\":1500,\"provisional\":true,\"analysis\":{\"inaccuracy\":4,\"mistake\":4,\"blunder\":1,\"acpl\":46,\"accuracy\":88}}},\"winner\":\"black\",\"moves\":\"d4 d5 Bf4 Nc6 e3 Nf6 c3 e6 Nf3 Bd6 Bg3 O-O Bd3 Bxg3 hxg3 Re8 Nbd2 e5 dxe5 Nxe5 Nxe5 Rxe5 Nf3 Re8 Qc2 g6 O-O-O Bg4 Be2 Ne4 Rdf1 c5 Rh4 Bf5 Bd3 c4 Bxe4 Bxe4 Qd2 Bxf3 gxf3 b5 Rfh1 h5 g4 a5 gxh5 b4 hxg6 fxg6 Rh8+ Kf7 R1h7+ Kf6 Qd4+ Kg5 Qg4+ Kf6 Qf4+ Ke6 Qf7+ Kd6 Qxg6+ Kc5 Rxe8 Qxe8 Qxe8 Rxe8 Rc7+ Kd6 Ra7 bxc3 bxc3 Rf8 f4 Kc5 Rxa5+ Kb6 Rxd5 Kc6 Rd4 Kc5 a4 Ra8 f5 Rxa4 f6 Ra1+ Kb2 Rf1 f7 Rxf2+ Ka3 Rxf7 Ka4 Ra7#\",\"clock\":{\"initial\":600,\"increment\":5,\"totalTime\":800}}\\n{\"id\":\"U5NvPOmi\",\"rated\":false,\"variant\":\"standard\",\"speed\":\"rapid\",\"perf\":\"rapid\",\"createdAt\":1697996609366,\"lastMoveAt\":1697996776710,\"status\":\"draw\",\"players\":{\"white\":{\"user\":{\"name\":\"sandman353\",\"id\":\"sandman353\"},\"rating\":1500,\"provisional\":true,\"analysis\":{\"inaccuracy\":2,\"mistake\":0,\"blunder\":4,\"acpl\":107,\"accuracy\":60}},\"black\":{\"user\":{\"name\":\"maia1\",\"title\":\"BOT\",\"patron\":true,\"id\":\"maia1\"},\"rating\":1481,\"analysis\":{\"inaccuracy\":2,\"mistake\":1,\"blunder\":4,\"acpl\":113,\"accuracy\":56}}},\"moves\":\"e4 e5 Nf3 Nc6 Bc4 Nf6 Ng5 d5 exd5 Nxd5 Qf3 Qxg5 Bxd5 Be6 Bxc6+ bxc6 Qxc6+ Bd7 Qxa8+ Ke7 O-O Bh3 g3 Bxf1 Kxf1 g6 Qxa7 Bg7 Qxc7+ Kf6 Qd6+ Kf5 Qd3+ e4 Qd5+ Be5 d3 Qxc1+ Kg2 Qxb2 Qxe4+ Ke6 Qc6+ Bd6 Qe4+ Be5 Qc6+ Bd6 Qe4+ Be5\",\"clock\":{\"initial\":600,\"increment\":5,\"totalTime\":800}}\\n{\"id\":\"qIfKU6bF\",\"rated\":false,\"variant\":\"standard\",\"speed\":\"rapid\",\"perf\":\"rapid\",\"createdAt\":1697994527761,\"lastMoveAt\":1697994961528,\"status\":\"mate\",\"players\":{\"white\":{\"user\":{\"name\":\"sandman353\",\"id\":\"sandman353\"},\"rating\":1500,\"provisional\":true,\"analysis\":{\"inaccuracy\":0,\"mistake\":2,\"blunder\":6,\"acpl\":55,\"accuracy\":75}},\"black\":{\"user\":{\"name\":\"maia1\",\"title\":\"BOT\",\"patron\":true,\"id\":\"maia1\"},\"rating\":1460,\"analysis\":{\"inaccuracy\":3,\"mistake\":2,\"blunder\":3,\"acpl\":41,\"accuracy\":78}}},\"winner\":\"black\",\"moves\":\"e4 e5 Nf3 Nc6 Bc4 f6 Nc3 Nge7 d3 d6 O-O Bg4 h3 Bxf3 Qxf3 Nd4 Qh5+ g6 Qd1 Qd7 Be3 O-O-O Bxd4 exd4 Nd5 Nxd5 Bxd5 c6 Bb3 d5 exd5 cxd5 Qf3 f5 Bxd5 Qxd5 Qxd5 Rxd5 Rfe1 Bb4 Re2 Rhd8 a3 Ba5 b4 Bb6 Rae1 a5 Re7 axb4 axb4 Rb5 Rxh7 Rxb4 Ree7 Rb1+ Kh2 Bc7+ g3 Bd6 Reg7 Rb2 Rxg6 Rxc2 Kg2 Rd2 Rf6 Rxd3 Rxf5 Rf8 Rxf8+ Bxf8 Rh8 Kd7 Rxf8 b5 Rf7+ Ke6 Rb7 Rb3 Rb6+ Kd5 h4 d3 h5 d2 h6 d1=Q h7 Qf3+ Kh3 Qh5+ Kg2 Qxh7 Rb8 Qe4+ Kh3 Qh1+ Kg4 Qf3+ Kh3 Qxf2 Rd8+ Kc4 Rc8+ Kb4 Rg8 Qf1+ Kg4 Qc4+ Kh3 Qxg8 Kh4 Qxg3+ Kh5 Rf3 Kh6 Qh3+ Kg5 Qg3+ Kh5 Rf5+ Kh6 Qg5+ Kh7 Rf7+ Kh8 Qg7#\",\"clock\":{\"initial\":600,\"increment\":5,\"totalTime\":800}}\\n{\"id\":\"WM0QpOAN\",\"rated\":false,\"variant\":\"standard\",\"speed\":\"rapid\",\"perf\":\"rapid\",\"createdAt\":1697993648871,\"lastMoveAt\":1697993846371,\"status\":\"resign\",\"players\":{\"white\":{\"user\":{\"name\":\"maia1\",\"title\":\"BOT\",\"patron\":true,\"id\":\"maia1\"},\"rating\":1457,\"analysis\":{\"inaccuracy\":0,\"mistake\":1,\"blunder\":0,\"acpl\":73,\"accuracy\":76}},\"black\":{\"user\":{\"name\":\"sandman353\",\"id\":\"sandman353\"},\"rating\":1500,\"provisional\":true,\"analysis\":{\"inaccuracy\":1,\"mistake\":0,\"blunder\":2,\"acpl\":134,\"accuracy\":54}}},\"winner\":\"white\",\"moves\":\"e4 e5 Nc3 Qg5 Nf3 Qd8 Nxe5 f6 Nf3 Ne7 d4 d6 d5\",\"clock\":{\"initial\":600,\"increment\":5,\"totalTime\":800}}\\n'"
      ]
     },
     "execution_count": 4,
     "metadata": {},
     "output_type": "execute_result"
    }
   ],
   "source": [
    "# token and username\n",
    "access_token = \"ADD TOKEN HERE\"\n",
    "username = \"sandman353\"\n",
    "\n",
    "# API endpoint\n",
    "api_url = f\"https://lichess.org/api/games/user/{username}\"\n",
    "\n",
    "# Query parameters\n",
    "params = {\n",
    "    \"accuracy\": \"true\"\n",
    "}\n",
    "\n",
    "# Set the Accept header for ndjson format\n",
    "headers = {\n",
    "    \"Accept\": \"application/x-ndjson\"\n",
    "}\n",
    "\n",
    "# Make the GET request\n",
    "response = requests.get(api_url, params=params, headers=headers)\n",
    "\n",
    "soupy = BeautifulSoup(response.text, 'html.parser')\n",
    "game_with_acc = soupy.prettify()\n",
    "game_with_acc"
   ]
  },
  {
   "cell_type": "code",
   "execution_count": 3,
   "id": "5933f888-3219-4f36-a317-398ea2d8a1fa",
   "metadata": {},
   "outputs": [],
   "source": [
    "with open(\"game_html.txt\", 'w') as file:\n",
    "    # Write the content to the file\n",
    "    file.write(game_with_acc)"
   ]
  }
 ],
 "metadata": {
  "kernelspec": {
   "display_name": "Python 3 (ipykernel)",
   "language": "python",
   "name": "python3"
  },
  "language_info": {
   "codemirror_mode": {
    "name": "ipython",
    "version": 3
   },
   "file_extension": ".py",
   "mimetype": "text/x-python",
   "name": "python",
   "nbconvert_exporter": "python",
   "pygments_lexer": "ipython3",
   "version": "3.9.16"
  }
 },
 "nbformat": 4,
 "nbformat_minor": 5
}
